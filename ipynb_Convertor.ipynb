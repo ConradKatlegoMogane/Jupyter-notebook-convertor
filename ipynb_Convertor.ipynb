{
  "nbformat": 4,
  "nbformat_minor": 0,
  "metadata": {
    "colab": {
      "provenance": [],
      "collapsed_sections": [
        "Nc081PyiQDzu"
      ]
    },
    "kernelspec": {
      "name": "python3",
      "display_name": "Python 3"
    },
    "language_info": {
      "name": "python"
    }
  },
  "cells": [
    {
      "cell_type": "markdown",
      "source": [
        "# **<u>nbconvert</u>**\n",
        "\n",
        "**`nbconvert` is a tool that allows you to convert a Jupyter  notebook `.ipynb` file into static format such as: `HTML`, `LaTeX`, `PDF`, `Markdown` and more.**"
      ],
      "metadata": {
        "id": "rcUjvq5MP26_"
      }
    },
    {
      "cell_type": "markdown",
      "source": [
        "This notebook has been developed to demonstrate the use of `Jupyter Notebook` as an interactive environment for **data analysis, visualization, and reproducible research**. Jupyter provides a flexible platform that integrates executable code, narrative text, equations, and visual outputs within a single document. This combination makes it particularly valuable for scientific research, teaching, and collaborative projects, as it allows both the computational process and its interpretation to be documented transparently."
      ],
      "metadata": {
        "id": "x2ApEpAznay-"
      }
    },
    {
      "cell_type": "markdown",
      "source": [
        "# **<u>Methods and Materials</u>**\n",
        "include using  to convert the notebook to HTML and PDF formats. The notebook utilizes the following:\n",
        "\n"
      ],
      "metadata": {
        "id": "aqBNcwhEF8HI"
      }
    },
    {
      "cell_type": "markdown",
      "source": [
        "`Jupyter nbconvert`: A command-line tool used to convert Jupyter Notebooks into various formats, including HTML and PDF.\n"
      ],
      "metadata": {
        "id": "fcp8MJjqGX6m"
      }
    },
    {
      "cell_type": "markdown",
      "source": [
        "`TeX Live`: A distribution of the TeX typesetting system, which provides the necessary packages for the LaTeX to PDF conversion.\n"
      ],
      "metadata": {
        "id": "0gGdge4iGabG"
      }
    },
    {
      "cell_type": "markdown",
      "source": [
        "`Pandoc`: A universal document converter used for converting files from one markup format to another, facilitating the creation of PDFs from notebooks."
      ],
      "metadata": {
        "id": "FcpyJpJXGcgw"
      }
    },
    {
      "cell_type": "code",
      "source": [
        "# Optional for when You working via google colaboratory\n",
        "from google.colab import drive\n",
        "drive.mount('/content/drive')"
      ],
      "metadata": {
        "colab": {
          "base_uri": "https://localhost:8080/"
        },
        "id": "qsgAYCNyr7Nz",
        "outputId": "dbafc45b-1609-431f-d11f-4bbbb10e0a68"
      },
      "execution_count": 2,
      "outputs": [
        {
          "output_type": "stream",
          "name": "stdout",
          "text": [
            "Mounted at /content/drive\n"
          ]
        }
      ]
    },
    {
      "cell_type": "markdown",
      "source": [
        "# **<u>Results</u>**"
      ],
      "metadata": {
        "id": "GSJeBnq5GjyX"
      }
    },
    {
      "cell_type": "markdown",
      "source": [
        "## **Convert `.ipynb` to `HTML` then print as `PDF`**"
      ],
      "metadata": {
        "id": "Nc081PyiQDzu"
      }
    },
    {
      "cell_type": "code",
      "source": [
        "!jupyter nbconvert --to html \"/content/ipynb_Convertor.ipynb\"\n",
        "print('Convertion Complete')"
      ],
      "metadata": {
        "colab": {
          "base_uri": "https://localhost:8080/"
        },
        "id": "QyRG0nsrQLCu",
        "outputId": "e4fc7961-8dde-412e-a4cd-214ebcc86952"
      },
      "execution_count": 12,
      "outputs": [
        {
          "output_type": "stream",
          "name": "stdout",
          "text": [
            "[NbConvertApp] Converting notebook /content/ipynb_Convertor.ipynb to html\n",
            "[NbConvertApp] Writing 303177 bytes to /content/ipynb_Convertor.html\n",
            "Convertion Complete\n"
          ]
        }
      ]
    },
    {
      "cell_type": "markdown",
      "source": [
        "## **Convert  `.ipynb` to  `PDF`**"
      ],
      "metadata": {
        "id": "28DB2WQUQLJO"
      }
    },
    {
      "cell_type": "code",
      "source": [
        "!sudo apt-get install texlive-xetex texlive-fonts-recommended texlive-plain-generic"
      ],
      "metadata": {
        "id": "0nRxT2YRQLSO",
        "collapsed": true
      },
      "execution_count": null,
      "outputs": []
    },
    {
      "cell_type": "code",
      "source": [
        "!sudo apt-get install pandoc"
      ],
      "metadata": {
        "id": "hh1ZauJIw8QT",
        "collapsed": true
      },
      "execution_count": null,
      "outputs": []
    },
    {
      "cell_type": "code",
      "source": [
        "!jupyter nbconvert --to pdf \"/content/ipynb_Convertor.ipynb\"\n",
        "print('Convertion Complete')"
      ],
      "metadata": {
        "colab": {
          "base_uri": "https://localhost:8080/"
        },
        "id": "q2xH3xSgQSR3",
        "outputId": "c0a98317-0433-4760-8e60-fa4f4147d482"
      },
      "execution_count": 10,
      "outputs": [
        {
          "output_type": "stream",
          "name": "stdout",
          "text": [
            "[NbConvertApp] Converting notebook /content/ipynb_Convertor.ipynb to pdf\n",
            "[NbConvertApp] Writing 50315 bytes to notebook.tex\n",
            "[NbConvertApp] Building PDF\n",
            "[NbConvertApp] Running xelatex 3 times: ['xelatex', 'notebook.tex', '-quiet']\n",
            "[NbConvertApp] Running bibtex 1 time: ['bibtex', 'notebook']\n",
            "[NbConvertApp] WARNING | bibtex had problems, most likely because there were no citations\n",
            "[NbConvertApp] PDF successfully created\n",
            "[NbConvertApp] Writing 52752 bytes to /content/ipynb_Convertor.pdf\n",
            "Convertion Complete\n"
          ]
        }
      ]
    },
    {
      "cell_type": "markdown",
      "source": [
        "# **<u>References</u>**"
      ],
      "metadata": {
        "id": "riGJ53jdRgcG"
      }
    },
    {
      "cell_type": "markdown",
      "source": [
        "\n",
        "- **[Convert Notebooks to other formats](https://nbconvert.readthedocs.io/en/latest/) from nbconvert Documentation**\n",
        "\n",
        "- **[Installing TeX](https://nbconvert.readthedocs.io/en/latest/install.html#installing-tex) from nbconvert Documentation**"
      ],
      "metadata": {
        "id": "h6QzfPO9Rixm"
      }
    }
  ]
}